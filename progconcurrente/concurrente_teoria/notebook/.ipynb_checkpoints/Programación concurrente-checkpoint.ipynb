{
 "cells": [
  {
   "cell_type": "markdown",
   "metadata": {},
   "source": [
    "# Sincronización\n",
    "## Métodos de sincronización\n",
    "### Mutex\n",
    "En un entorno con múltiples instancias se desea que sólo una de ellas pueda ejecutar al mismo tiempo una sección crítica del código.Las operaciones dentro los mutex son:\n",
    "\n",
    "* Iniciar Mutex\n",
    "* Bloquear seccion critica\n",
    "* Desbloquear seccion critica\n",
    "* Destruir Mutex"
   ]
  },
  {
   "cell_type": "markdown",
   "metadata": {},
   "source": [
    "En el siguiente ejemplo se ilustra como la sección crítica no es ejecutada completamente por cada hilo sino que la impresión se entre corta por los diferentes hilos que intentan realizar la impresión."
   ]
  },
  {
   "cell_type": "code",
   "execution_count": 1,
   "metadata": {
    "collapsed": false
   },
   "outputs": [
    {
     "name": "stdout",
     "output_type": "stream",
     "text": [
      "Welcome Mr. Welcome Mr.  1 Welcome Mr. \n",
      "0 \n",
      "2Welcome Mr.  3\n",
      "\n",
      "Welcome Mr.  4\n",
      "Welcome Mr.  5\n",
      "Welcome Mr.  6\n",
      " Welcome Mr.  7\n",
      "Welcome Mr.  8Welcome Mr. \n",
      "\n",
      " 9\n"
     ]
    }
   ],
   "source": [
    "from threading import Thread\n",
    "\n",
    "# Solve requests \n",
    "def solve_request(id_thread):\n",
    "\n",
    "\t# Start - Critical section\n",
    "\tprint \"Welcome Mr. \", id_thread\n",
    "\t# End - Critical section\n",
    "\n",
    "\n",
    "if __name__ == '__main__':\n",
    "\n",
    "\tnum_requests = 10\n",
    "\trequests = []\n",
    "\n",
    "\t# Create queue requests\n",
    "\tfor id_thread in xrange(0,num_requests):\n",
    "\t\tmy_request = Thread(target = solve_request, args = (id_thread, ))\n",
    "\t\trequests.append(my_request)\n",
    "\n",
    "\t# Call requests\n",
    "\tfor id_thread in xrange(0,num_requests):\n",
    "\t\trequests[id_thread].start()"
   ]
  },
  {
   "cell_type": "markdown",
   "metadata": {},
   "source": [
    "Con el uso de un candado se soluciona el anterior problema."
   ]
  },
  {
   "cell_type": "code",
   "execution_count": 2,
   "metadata": {
    "collapsed": false
   },
   "outputs": [
    {
     "name": "stdout",
     "output_type": "stream",
     "text": [
      "Welcome Mr.  0\n",
      "Welcome Mr.  1\n",
      "Welcome Mr.  2\n",
      "Welcome Mr.  3\n",
      "Welcome Mr.  4\n",
      "Welcome Mr.  5\n",
      "Welcome Mr.  6\n",
      "Welcome Mr.  7\n",
      "Welcome Mr.  8\n",
      "Welcome Mr.  9\n"
     ]
    }
   ],
   "source": [
    "from threading import Thread\n",
    "from threading import Lock\n",
    "\n",
    "# Global mutex\n",
    "mutex = None\n",
    "\n",
    "# Solve requests \n",
    "def solve_request(id_thread):\n",
    "\n",
    "\t# Lock mutex\n",
    "\tmutex.acquire()\n",
    "\n",
    "\t# Start - Critical section\n",
    "\tprint \"Welcome Mr. \", id_thread\n",
    "\t# End - Critical section\n",
    "\n",
    "\t# Release mutex\n",
    "\tmutex.release()\n",
    "\n",
    "\n",
    "if __name__ == '__main__':\n",
    "\n",
    "\t# Create Mutex\n",
    "\tmutex = Lock()\n",
    "\n",
    "\tnum_requests = 10\n",
    "\trequests = []\n",
    "\n",
    "\t# Create queue requests\n",
    "\tfor id_thread in xrange(0,num_requests):\n",
    "\t\tmy_request = Thread(target = solve_request, args = (id_thread, ))\n",
    "\t\trequests.append(my_request)\n",
    "\n",
    "\t# Call requests\n",
    "\tfor id_thread in xrange(0,num_requests):\n",
    "\t\trequests[id_thread].start()\n"
   ]
  },
  {
   "cell_type": "markdown",
   "metadata": {},
   "source": [
    "Aunque se imprimieron en orden los id's de los hilos, esto no quiere decir que se asegure que siempre va a ser así, lo único que se garantiza es que nuestra sección crítica se ejecuta completamente por un único hilo a la vez."
   ]
  },
  {
   "cell_type": "markdown",
   "metadata": {},
   "source": [
    "### Semáforos\n",
    "Son variables que almacenan un valor entero y en la que hay tres operaciones básicas: inicialización, incremento y decremento. Las tres operaciones son atómicas, lo que significa que durante la ejecución nunca se va a interrumpir el proceso. Con estas operaciones constituyen unos métodos para permitir o restringir el acceso a la sección crítica.\n",
    "\n",
    "* Se inicializa con un valor entero mayor que cero generalmente uno\n",
    "* Se hace un decremento. Después se evalúa si el valor del semáforo es menor o igual a cero esta función se bloquea\n",
    "* Se hace un incremento. Si el valor del semáforo es mayor que cero, el proceso bloqueado será desbloqueado"
   ]
  },
  {
   "cell_type": "markdown",
   "metadata": {},
   "source": [
    "En el siguiente ejemplo se desea hacer la simulación en la que se tiene un servicio en el que se desean limitar el número de usuarios al mismo tiempo que consuman el servicio, sin el uso de semáforos se puede observar en un momento determinado pueden haber un número mayor de usuarios al esperado."
   ]
  },
  {
   "cell_type": "code",
   "execution_count": 11,
   "metadata": {
    "collapsed": false
   },
   "outputs": [
    {
     "name": "stdout",
     "output_type": "stream",
     "text": [
      "1\t1\t1\t1\t1\t1\t1\t1\t1\t1\t1\t1\t1\t1\t1\t1\t1\t1\t1\t1\t1\t1\t1\t1\t1\t1\t1\t1\t1\t1\t1\t1\t1\t1\t1\t1\t1\t1\t1\t1\t1\t1\t1\t1\t1\t1\t1\t1\t1\t1\t1\t2\t1\t2\t1\t1\t1\t1\t1\t1\t1\t1\t1\t1\t1\t1\t1\t1\t1\t1\t2\t2\t1\t1\t1\t1\t1\t1\t1\t1\t1\t1\t1\t1\t1\t1\t1\t4\t4\t3\t2\t1\t2\t1\t1\t1\t1\t1\t1\t1\t"
     ]
    }
   ],
   "source": [
    "from threading import Thread\n",
    "from threading import Lock\n",
    "import sys\n",
    "\n",
    "# Global mutex\n",
    "mutex = None\n",
    "\n",
    "# Number of connections\n",
    "connections = None\n",
    "\n",
    "# Solve requests \n",
    "def solve_request(id_thread):\n",
    "\n",
    "\tglobal connections\n",
    "\n",
    "\t# Increase the connections\n",
    "\tconnections += 1\n",
    "\n",
    "\t# Start - Critical section\n",
    "\tmutex.acquire()\n",
    "\tsys.stdout.write(str(connections) + \"\\t\")\n",
    "\tmutex.release()\n",
    "\t# End - Critical section\n",
    "\n",
    "\t# Decrease the connections\n",
    "\tconnections -= 1\t\n",
    "\n",
    "\n",
    "if __name__ == '__main__':\n",
    "\n",
    "\t# Create lock\n",
    "\tmutex = Lock()\n",
    "\n",
    "\t# Init connections\n",
    "\tconnections = 0\n",
    "\n",
    "\tnum_requests = 100\n",
    "\trequests = []\n",
    "\n",
    "\t# Create queue requests\n",
    "\tfor id_thread in xrange(0,num_requests):\n",
    "\t\tmy_request = Thread(target = solve_request, args = (id_thread, ))\n",
    "\t\trequests.append(my_request)\n",
    "\n",
    "\t# Call requests\n",
    "\tfor id_thread in xrange(0,num_requests):\n",
    "\t\trequests[id_thread].start()\n",
    "\t\t\n"
   ]
  },
  {
   "cell_type": "markdown",
   "metadata": {},
   "source": [
    "Con el uso del semáforo se limita a que el número de conexiones sea menor a 4"
   ]
  },
  {
   "cell_type": "code",
   "execution_count": 13,
   "metadata": {
    "collapsed": false
   },
   "outputs": [
    {
     "name": "stdout",
     "output_type": "stream",
     "text": [
      "1\t1\t1\t1\t1\t1\t1\t1\t1\t1\t1\t1\t1\t1\t1\t1\t2\t2\t2\t1\t1\t1\t1\t1\t1\t1\t1\t1\t1\t1\t2\t1\t1\t1\t1\t1\t1\t1\t3\t2\t1\t1\t1\t1\t1\t1\t1\t2\t2\t1\t3\t2\t1\t1\t1\t1\t1\t1\t1\t1\t1\t2\t1\t1\t1\t1\t3\t2\t1\t1\t1\t1\t2\t1\t1\t1\t1\t1\t1\t1\t1\t1\t1\t1\t1\t2\t1\t1\t1\t1\t1\t2\t2\t1\t1\t1\t1\t1\t2\t1\t"
     ]
    }
   ],
   "source": [
    "from threading import Thread\n",
    "from threading import BoundedSemaphore\n",
    "from threading import Lock\n",
    "import sys\n",
    "\n",
    "# Global semaphore\n",
    "semaphore = None\n",
    "\n",
    "# Global mutex\n",
    "mutex = None\n",
    "\n",
    "# Number of connections\n",
    "connections = None\n",
    "\n",
    "# Solve requests \n",
    "def solve_request(id_thread):\n",
    "\n",
    "\tglobal connections\n",
    "\n",
    "\t# Decrase semaphore\n",
    "\tsemaphore.acquire()\n",
    "\n",
    "\t# Increase the connections\n",
    "\tconnections += 1\n",
    "\n",
    "\t# Start - Critical section\n",
    "\tmutex.acquire()\n",
    "\tsys.stdout.write(str(connections) + \"\\t\")\n",
    "\tmutex.release()\n",
    "\t# End - Critical section\n",
    "\n",
    "\t# Decrease the connections\n",
    "\tconnections -= 1\t\n",
    "\n",
    "\t# Increase semaphore\n",
    "\tsemaphore.release()\n",
    "\n",
    "\n",
    "if __name__ == '__main__':\n",
    "\n",
    "\t# Maximum number of connections\n",
    "\tmax_connections = 3\n",
    "\n",
    "\t# Create semaphore\n",
    "\tsemaphore = BoundedSemaphore(value = max_connections)\n",
    "\n",
    "\t# Create lock\n",
    "\tmutex = Lock()\n",
    "\n",
    "\t# Init connections\n",
    "\tconnections = 0\n",
    "\n",
    "\tnum_requests = 100\n",
    "\trequests = []\n",
    "\n",
    "\t# Create queue requests\n",
    "\tfor id_thread in xrange(0,num_requests):\n",
    "\t\tmy_request = Thread(target = solve_request, args = (id_thread, ))\n",
    "\t\trequests.append(my_request)\n",
    "\n",
    "\t# Call requests\n",
    "\tfor id_thread in xrange(0,num_requests):\n",
    "\t\trequests[id_thread].start()"
   ]
  },
  {
   "cell_type": "markdown",
   "metadata": {},
   "source": [
    "### Barreras\n",
    "De forma similiar a los semáforos las barreras poseen un contador interno que permiten en determinado momento el paso de hilos. La barrera espera que un cierto número de hilos lleguen a la sección crítica y sólo cuando ya hayan llegado ese número de hilos, los hilos entran a la sección crítica."
   ]
  },
  {
   "cell_type": "markdown",
   "metadata": {},
   "source": [
    "## Métodos de comunicación\n",
    "### Memoría compartida\n",
    "Espacio en memoría en la que varios procesos acuerdan procesos de lectura y escritura, se caracteriza por ser el más rápido"
   ]
  },
  {
   "cell_type": "markdown",
   "metadata": {},
   "source": [
    "En el ejemplo se muestra como un proceso en C++ y otro en Python se comunican mediante memoría compartida."
   ]
  },
  {
   "cell_type": "code",
   "execution_count": null,
   "metadata": {
    "collapsed": true
   },
   "outputs": [],
   "source": [
    "#include <stdio.h>\n",
    "#include <string.h>\n",
    "#include <stdlib.h>\n",
    "#include <sys/types.h>\n",
    "#include <sys/ipc.h>\n",
    "#include <sys/shm.h>\n",
    "\n",
    "int main(int argc, const char **argv)\n",
    "{\n",
    "   int shmid;\n",
    "   // give your shared memory an id, anything will do\n",
    "   key_t key = 123456;\n",
    "   char *shared_memory;\n",
    "\n",
    "   // Setup shared memory, 512 is the size\n",
    "   if ((shmid = shmget(key, 512, IPC_CREAT | 0666)) < 0)\n",
    "   {\n",
    "      printf(\"Error getting shared memory id\");\n",
    "      exit(1);\n",
    "   }\n",
    "   // Attached shared memory\n",
    "   if ((shared_memory = shmat(shmid, NULL, 0)) == (char *) -1)\n",
    "   {\n",
    "      printf(\"Error attaching shared memory id\");\n",
    "      exit(1);\n",
    "   }\n",
    "\n",
    "   char value[512];\n",
    "   system(\"clear\");\n",
    "   printf(\"Which value do you want yo share?\\n\");\n",
    "   scanf(\"%s\", value);\n",
    "   printf(\"Shared value: %s\\n\", value);\n",
    "\n",
    "   // Copy shared value\n",
    "   memcpy(shared_memory, value, sizeof(value));\n",
    "   // sleep so there is enough time to run the reader!\n",
    "   sleep(60);\n",
    "   // Detach and remove shared memory\n",
    "   shmdt(shmid);\n",
    "   shmctl(shmid, IPC_RMID, NULL);\n",
    "}"
   ]
  },
  {
   "cell_type": "code",
   "execution_count": null,
   "metadata": {
    "collapsed": true
   },
   "outputs": [],
   "source": [
    "import sysv_ipc\n",
    "\n",
    "# Create shared memory object\n",
    "memory = sysv_ipc.SharedMemory(123456)\n",
    "\n",
    "# Read value from shared memory\n",
    "memory_value = memory.read()\n",
    "\n",
    "# Find the 'end' of the string and strip\n",
    "i = memory_value.find('\\0')\n",
    "if i != -1:\n",
    "    memory_value = memory_value[:i]\n",
    "\n",
    "print (memory_value)"
   ]
  },
  {
   "cell_type": "markdown",
   "metadata": {},
   "source": [
    "### Tuberías\n",
    "Método de comunicación en la que los procesos tienen la capacidad de leer o escribir en un momento determinado, pues si un proceso está escribiendo no puede leer a la vez, de la misma forma si está leyendo no puede escribir al mismo tiempo. Las tuberías también son usadas como método de sincronización pues las llamadas son bloqueantes, es decir hasta que no se lea o escriba por completo no se continua con la siguiente instrucción.\n",
    "\n",
    "En el siguiente ejemplo se muestra la simulación de un centro de atención en el que un usuario envia un consulta y del lado del centro de servicio se guarda un registro de los datos enviados por el usuario."
   ]
  },
  {
   "cell_type": "code",
   "execution_count": null,
   "metadata": {
    "collapsed": true
   },
   "outputs": [],
   "source": [
    "import os, sys\n",
    "from time import gmtime, strftime\n",
    "\n",
    "# file descriptors r, w for reading and writing\n",
    "r, w = os.pipe() \n",
    "\n",
    "processid = os.fork()\n",
    "if processid:\n",
    "    # This is the parent process \n",
    "    # Closes file descriptor w\n",
    "\tos.close(w)\n",
    "\tr = os.fdopen(r)\n",
    "\tf = open(\"log\", \"w\")\n",
    "\tstr = r.read()\n",
    "\ttime = strftime(\"%a, %d %b %Y %X +0000\", gmtime())\n",
    "\tf.write(time + \"|\" + str)\n",
    "\tf.close()\n",
    "\tsys.exit(0)\n",
    "else:\n",
    "    # This is the child process\n",
    "    os.close(r)\n",
    "    w = os.fdopen(w, 'w')\n",
    "    print (\"Bienvenido al sistema de PQRSD\")\n",
    "    print (\"Ingrese su correo electronico\")\n",
    "    email = sys.stdin.readline()\n",
    "    print (\"Ingrese su PQRSD\")\n",
    "    pqrsd = sys.stdin.readline()\n",
    "    value = email.strip() + \"|\" + pqrsd\n",
    "    w.write(value)\n",
    "    w.close()\n",
    "    print (\"Gracias por confiar en nosotros\")\n",
    "    sys.exit(0)"
   ]
  },
  {
   "cell_type": "markdown",
   "metadata": {},
   "source": [
    "### Paso de mensajes\n",
    "Método de comunicación ampliamente usado cuando los procesos se encuentran de forma remota. Se caracteriza por ser uno de los más lentos y esto debido a que hace uso de protocolos de comunicación más robustos como lo puede ser TCP o UDP. Para establecer la conexión se establece la dirección IP y puerto de los nodos que desean realizar la comunicación."
   ]
  },
  {
   "cell_type": "code",
   "execution_count": null,
   "metadata": {
    "collapsed": true
   },
   "outputs": [],
   "source": [
    "import socket\n",
    "\n",
    "serversock = socket.socket(socket.AF_INET, socket.SOCK_STREAM)\n",
    "# Set IP and port\n",
    "serversock.bind(('192.168.2.7', 8089))\n",
    "# Limit the number of connections\n",
    "serversock.listen(5)\n",
    "\n",
    "while True:\n",
    "    # Wait for connections\n",
    "    connection, address = serversock.accept()\n",
    "    # Receive data\n",
    "    buf = connection.recv(64)\n",
    "    if len(buf) > 0:\n",
    "        print buf\n",
    "        break"
   ]
  },
  {
   "cell_type": "code",
   "execution_count": null,
   "metadata": {
    "collapsed": true
   },
   "outputs": [],
   "source": [
    "import socket\n",
    "\n",
    "clientsocket = socket.socket(socket.AF_INET, socket.SOCK_STREAM)\n",
    "# Set IP and port\n",
    "clientsocket.connect(('192.168.2.7', 8089))\n",
    "# Send data\n",
    "clientsocket.send('hello')"
   ]
  },
  {
   "cell_type": "markdown",
   "metadata": {},
   "source": [
    "Ejemplo tomado de: http://www.binarytides.com/python-socket-server-code-example/"
   ]
  }
 ],
 "metadata": {
  "kernelspec": {
   "display_name": "Python 2",
   "language": "python",
   "name": "python2"
  },
  "language_info": {
   "codemirror_mode": {
    "name": "ipython",
    "version": 2
   },
   "file_extension": ".py",
   "mimetype": "text/x-python",
   "name": "python",
   "nbconvert_exporter": "python",
   "pygments_lexer": "ipython2",
   "version": "2.7.12"
  }
 },
 "nbformat": 4,
 "nbformat_minor": 1
}
