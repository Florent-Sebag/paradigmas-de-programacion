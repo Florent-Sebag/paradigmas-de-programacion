{
 "cells": [
  {
   "cell_type": "markdown",
   "metadata": {
    "nbpresent": {
     "id": "0f0c22b6-d1d5-4ce8-a02b-52bce93d98e9"
    }
   },
   "source": [
    "# TUTORIAL GO\n",
    "\n",
    "## GENERALIDADES\n",
    "Go es un lenguaje open source desarrollado por un equipo en google para crear software simple, fiable y eficiente, diseñado especialmente para programación concurrente.\n",
    "Actualmente disponible en formato binario para Windows, GNU/Linux, FreeBSD y Mac OS X\n",
    "\n",
    "Go es un lenguaje compilado, concurrente, imperativo, estructurado y orientado a objetos, además cuenta con recolector de basura.\n",
    "\n",
    "Para descargar e instalar Go basta con ir a si sitio web golang.org y seguir las instrucciones para la instalacion en linux/windows o Mac OS X.\n",
    "\n",
    "## CARACTERÍSTICAS \n",
    " <ul>\n",
    "  <li>Sintaxis similar a C.</li>\n",
    "  <li>Tipado estático.</li>\n",
    "  <li>Recolector de basura.</li>\n",
    "  <li>Admite la programación orientada a objetos a pesar de que no dispone herencia de tipos, declara clases por medio de interfaces, embedded values y structs.</li>\n",
    "  <li>Es compilado.</li>\n",
    "  <li>No tiene excepciones.</li>\n",
    "  <li>No tiene aritmética de punteros.</li>\n",
    "</ul> \n",
    "\n",
    "# LO BASICO DE GO\n",
    "## PAQUETES\n",
    "\n",
    "Todo programa en GO está compuesto por paquetes, y la ejecución comienza en el paquete “main”.\n"
   ]
  },
  {
   "cell_type": "code",
   "execution_count": null,
   "metadata": {
    "collapsed": true
   },
   "outputs": [],
   "source": [
    "package main"
   ]
  },
  {
   "cell_type": "markdown",
   "metadata": {},
   "source": [
    "##importación\n",
    "\n",
    "<ul>\n",
    "    <li>Normal</li>\n",
    "</ul>"
   ]
  },
  {
   "cell_type": "code",
   "execution_count": null,
   "metadata": {
    "collapsed": true
   },
   "outputs": [],
   "source": [
    "import \"fmt\"\n",
    "import \"math\""
   ]
  },
  {
   "cell_type": "markdown",
   "metadata": {},
   "source": [
    "<ul>\n",
    "    <li>Factorizada</li>\n",
    "</ul>"
   ]
  },
  {
   "cell_type": "code",
   "execution_count": null,
   "metadata": {
    "collapsed": true
   },
   "outputs": [],
   "source": [
    "import (\n",
    "    \"fmt\" //Paquete para I/O\n",
    "    \"math\" //Paquete de funciones matematicas\n",
    ")"
   ]
  },
  {
   "cell_type": "markdown",
   "metadata": {},
   "source": [
    "## EJEMPLO"
   ]
  },
  {
   "cell_type": "code",
   "execution_count": 1,
   "metadata": {
    "collapsed": false,
    "nbpresent": {
     "id": "4c615833-7d44-4317-baf8-dec3c2608e2c"
    }
   },
   "outputs": [
    {
     "ename": "Error",
     "evalue": "<continue input>",
     "output_type": "error",
     "traceback": [
      ""
     ]
    }
   ],
   "source": [
    "func main(){\n",
    "    fmt.Println(\"Hola mundo\",math.Pi)\n",
    "    fmt.Printf(\"%g este numero era pi\",math.Pi)\n",
    "}"
   ]
  },
  {
   "cell_type": "markdown",
   "metadata": {
    "collapsed": true
   },
   "source": [
    "## FUNCIONES\n",
    "<ul>\n",
    "    <li>En GO las funciones pueden tener cero o más argumentos y pueden retornar más de un valor.</li>    \n",
    "    <li>Cuando dos o más parámetros de la función son del mismo tipo, se puede omitir el tipo de todos, menos el último.</li>\n",
    "</ul>"
   ]
  },
  {
   "cell_type": "code",
   "execution_count": null,
   "metadata": {
    "collapsed": true
   },
   "outputs": [],
   "source": [
    "func split(a int, b int)/*parametros de entrada*/ (int,int)/*parametros de salida*/{\n",
    "    var sum,res int\n",
    "    sum=a+b\n",
    "    res=a-b\n",
    "    return sum,res\n",
    "}\n",
    "\n",
    "func main(){\n",
    "    fmt.Println(split(2,3))\n",
    "}"
   ]
  },
  {
   "cell_type": "markdown",
   "metadata": {},
   "source": [
    "<ul>\n",
    "    <li>Puede tener valores de retorno nombrados.</li>\n",
    "</ul>"
   ]
  },
  {
   "cell_type": "code",
   "execution_count": null,
   "metadata": {
    "collapsed": true
   },
   "outputs": [],
   "source": [
    "func split(a, b int)/*parametros de entrada*/ (sum,res int)/*parametros de salida*/{\n",
    "    sum=a+b\n",
    "    res=a-b\n",
    "    return //retorna los aprametros de salida nombrados con su valor acutal\n",
    "}\n",
    "\n",
    "func main(){\n",
    "    fmt.Println(split(2,3))\n",
    "}"
   ]
  },
  {
   "cell_type": "markdown",
   "metadata": {},
   "source": [
    "## VARIABLES\n",
    "<ul>\n",
    "<li>Se utiliza la sentencia var para declarar las variables, al igual que en las funciones, el tipo se puede declarar al final.</li>\n",
    "<ul>"
   ]
  },
  {
   "cell_type": "code",
   "execution_count": null,
   "metadata": {
    "collapsed": true
   },
   "outputs": [],
   "source": [
    "var x, y, z int"
   ]
  },
  {
   "cell_type": "markdown",
   "metadata": {},
   "source": [
    "<ul>\n",
    "   <li>Si se inicializan las variables, el tipo se puede omitir, para declarar varias variables en una sola línea, se hace al final.</li>\n",
    "</ul>"
   ]
  },
  {
   "cell_type": "code",
   "execution_count": null,
   "metadata": {
    "collapsed": true
   },
   "outputs": [],
   "source": [
    "var x, y, z int = 1, 2, 3\n",
    "var verdadero=true //Será de tipo bool\n",
    "var falso, cadena =false, \"¡no!\" //Serán de tipo bool y string respectivamente."
   ]
  },
  {
   "cell_type": "markdown",
   "metadata": {},
   "source": [
    "<ul>\n",
    "<li>Se pueden declarar implícitamente las variables sin necesidad de usar el comando var, utilizando el operador :=</li>\n",
    "</ul>"
   ]
  },
  {
   "cell_type": "code",
   "execution_count": null,
   "metadata": {
    "collapsed": true
   },
   "outputs": [],
   "source": [
    "falso, cadena :=false, \"¡no!\""
   ]
  },
  {
   "cell_type": "markdown",
   "metadata": {},
   "source": [
    "Este operador solo está disponible en el cuerpo de las funciones, para declarar variables por fuera de estas es necesario usar el comando var (por fuera de las funciones solo pueden haber expresiones que empiezan con una palabra reservada, como var func, etc).\n",
    "\n",
    "## TIPOS DE DATOS BÁSICOS\n",
    "\n",
    "Las variables tienen por defecto 0 o false en el caso del bool\n",
    "\n",
    "<ul>\n",
    "<li>bool ----->  true, false</li>\n",
    "<li>int8 ----->  -128....127</li>\n",
    "<li>int16 -----> -32768….32767</li>\n",
    "<li>int32 -----> -2147483648...2147483647</li>\n",
    "<li>int64 -----> -9223372034854775808….9223372036854775807</li>\n",
    "<li>float32 -----> Real (punto flotante) de 32 bits</li>\n",
    "<li>float64 -----> Real (punto flotante) de 64 bits</li>\n",
    "<li>complex64 ----->números complejos con partes real e imaginaria de 32 bits</li>\n",
    "<li>complex128 ----->números complejos con partes real e imaginaria de 64 bits</li>\n",
    "<li>uint8 ----->  0...255</li>\n",
    "<li>uint16 ----->0....65535</li>\n",
    "<li>uint32 ----->0...4294967295</li>\n",
    "<li>uint64 -----> 0….18446744073709551615</li>\n",
    "<li>byte -----> igual que uint8</li>\n",
    "<li>rune -----> igual que int32</li>\n",
    "<li>uint -----> igual que uint32</li>\n",
    "<li>int -----> igual que int32</li>\n",
    "<li>uintptr -----> entero suficientemente para almacenar un puntero</li>\n",
    "<li>string -----> array inmutable de bits que representa caracteres</li>\n",
    "</ul>\n",
    "\n",
    " <table style=\"width:100%\">\n",
    "  <tr>\n",
    "    <th>Operadores</th>\n",
    "    <th>Significado</th>\n",
    "    <th>Tipo de dato</th>\n",
    "  </tr>\n",
    "  <tr>\n",
    "    <td>&&</td>\n",
    "    <td>Y</td>\n",
    "    <td>logicos</td>\n",
    "  </tr>\n",
    "  <tr>\n",
    "    <td>||</td>\n",
    "    <td>O</td>\n",
    "    <td>logicos</td>\n",
    "  </tr>\n",
    "   <tr>\n",
    "    <td>!</td>\n",
    "    <td>NO</td>\n",
    "    <td>logicos</td>\n",
    "  </tr>\n",
    "   <tr>\n",
    "    <td>+</td>\n",
    "    <td>Suma</td>\n",
    "    <td>enteros, float, complex,string</td>\n",
    "  </tr>\n",
    "  <tr>\n",
    "    <td>-</td>\n",
    "    <td>Resta</td>\n",
    "    <td>enteros, float, complex</td>\n",
    "  </tr>\n",
    "  <tr>\n",
    "    <td>*</td>\n",
    "    <td>Multiplicacion</td>\n",
    "    <td>enteros, float, complex</td>\n",
    "  </tr>\n",
    "  <tr>\n",
    "    <td>/</td>\n",
    "    <td>Division</td>\n",
    "    <td>enteros, float, complex</td>\n",
    "  </tr>\n",
    "  <tr>\n",
    "    <td>%</td>\n",
    "    <td>Modulo</td>\n",
    "    <td>enteros</td>\n",
    "  </tr>\n",
    "  <tr>\n",
    "    <td>&</td>\n",
    "    <td>Y(bit a bit)</td>\n",
    "    <td>enteros</td>\n",
    "  </tr>\n",
    "   <tr>\n",
    "    <td>|</td>\n",
    "    <td>O(bit a bit)</td>\n",
    "    <td>enteros</td>\n",
    "  </tr>\n",
    "   <tr>\n",
    "    <td>^</td>\n",
    "    <td>XOR(bit a bit)</td>\n",
    "    <td>enteros</td>\n",
    "  </tr>\n",
    "   <tr>\n",
    "    <td>&^</td>\n",
    "    <td>Y NO(limpiar bits)</td>\n",
    "    <td>enteros</td>\n",
    "  </tr>\n",
    "  <tr>\n",
    "    <td><<</td>\n",
    "    <td>Desplazamiento a izquierda</td>\n",
    "    <td>enteros</td>\n",
    "  </tr>\n",
    "  <tr>\n",
    "    <td>>></td>\n",
    "    <td>Desplazamiento a derecha</td>\n",
    "    <td>enteros</td>\n",
    "  </tr>\n",
    "  <tr>\n",
    "    <td>==</td>\n",
    "    <td>Igualdad</td>\n",
    "    <td>Todo tipo de dato</td>\n",
    "  </tr>\n",
    "  <tr>\n",
    "    <td>!=</td>\n",
    "    <td>Diferencia</td>\n",
    "    <td>Todo tipo de dato</td>\n",
    "  </tr>\n",
    "  <tr>\n",
    "    <td>></td>\n",
    "    <td>Mayor que</td>\n",
    "    <td>Todo tipo de dato</td>\n",
    "  </tr>\n",
    "   <tr>\n",
    "    <td><</td>\n",
    "    <td>Menor que</td>\n",
    "    <td>Todo tipo de dato</td>\n",
    "  </tr>\n",
    "   <tr>\n",
    "    <td>>=</td>\n",
    "    <td>Mayor o igual que</td>\n",
    "    <td>Todo tipo de dato</td>\n",
    "  </tr>\n",
    "   <tr>\n",
    "    <td><=</td>\n",
    "    <td>Menor o igual que</td>\n",
    "    <td>Todo tipo de dato</td>\n",
    "  </tr>\n",
    "</table> \n",
    "\n",
    "## CONSTANTES\n",
    "\n",
    "Las constantes son declaradas como las variables, pero con la palabra reservada const, pueden ser booleanas, cadenas o numéricas.\n",
    "\n",
    "Las constantes numéricas sin un tipo definido toman el tipo que requiere según el contexto."
   ]
  },
  {
   "cell_type": "code",
   "execution_count": null,
   "metadata": {
    "collapsed": true
   },
   "outputs": [],
   "source": [
    "const x=3\n",
    "const cadena string=\"Hola mundo\""
   ]
  },
  {
   "cell_type": "markdown",
   "metadata": {},
   "source": [
    "# SENTENCIAS DE CONTROL\n",
    "## FOR\n",
    "Es el único tipo de ciclo que ofrece GO, sintaxis similar a el for de C o de JAVA, pero no se usan los paréntesis y los corchetes son obligatorios. "
   ]
  },
  {
   "cell_type": "code",
   "execution_count": null,
   "metadata": {
    "collapsed": true
   },
   "outputs": [],
   "source": [
    "func main(){\n",
    "    var sum int\n",
    "    for i:=0;i<10;i++{\n",
    "        sum+=i\n",
    "        fmt.Println(sum)\n",
    "    }\n",
    "}"
   ]
  },
  {
   "cell_type": "markdown",
   "metadata": {},
   "source": [
    "## \"WHILE\"\n",
    "En GO se puede generar el comportamiento de un while con un for, dejando solo la condición en la declaración del for."
   ]
  },
  {
   "cell_type": "code",
   "execution_count": null,
   "metadata": {
    "collapsed": true
   },
   "outputs": [],
   "source": [
    "func main(){\n",
    "    var sum int = 1\n",
    "    for i<10{\n",
    "        sum+=i\n",
    "        fmt.Println(sum)\n",
    "    }\n",
    "}"
   ]
  },
  {
   "cell_type": "markdown",
   "metadata": {},
   "source": [
    "## CICLO INFINITO"
   ]
  },
  {
   "cell_type": "code",
   "execution_count": null,
   "metadata": {
    "collapsed": true
   },
   "outputs": [],
   "source": [
    "for true{\n",
    "    \n",
    "}"
   ]
  },
  {
   "cell_type": "code",
   "execution_count": null,
   "metadata": {
    "collapsed": true
   },
   "outputs": [],
   "source": [
    "for {\n",
    "    \n",
    "}"
   ]
  },
  {
   "cell_type": "markdown",
   "metadata": {},
   "source": [
    "## IF-ELSE\n",
    "Sintaxis similar a el if de C o de JAVA, pero no se usan los paréntesis y los corchetes son obligatorios. \n",
    "Es posible tener una declaración antes de la evaluación inicial del if, dicha variable sólo existe en el contexto del if y else."
   ]
  },
  {
   "cell_type": "code",
   "execution_count": null,
   "metadata": {
    "collapsed": true
   },
   "outputs": [],
   "source": [
    "func sumacon2(x int){\n",
    "    if z:=2;z+x>10{\n",
    "        fmt.Printf(\"La suma de %d con %d es mayor a 10\\n\",z,x)\n",
    "    } else {\n",
    "        fmt.Printf(\"La suma de %d con %d es menor a 10\\n\",z,x)\n",
    "    }\n",
    "    //fmt.Println(z) //Esta linea da error porque la variable z no existe en el contexto fuera del if\n",
    "}\n",
    "func main(){\n",
    "    sumacon2(9)\n",
    "    sumacon2(2)\n",
    "}"
   ]
  },
  {
   "cell_type": "markdown",
   "metadata": {},
   "source": [
    "## SWITCH\n",
    "Sintaxis similar a el switch de C o de JAVA, pero no se usan los paréntesis y los corchetes son obligatorios. \n",
    "Al igual que en el if es posible definir una variable al inicio.\n",
    "En cada caso el break es usado automáticamente, a menos que se use el comando fallthrough para que se ejecute el caso siguiente.\n"
   ]
  },
  {
   "cell_type": "code",
   "execution_count": null,
   "metadata": {
    "collapsed": true
   },
   "outputs": [],
   "source": [
    "func funcion(x int)(y int){\n",
    "    switch z:=2;x{\n",
    "        case 10:\n",
    "        y=z+x\n",
    "        fmt.Printf(\"x= %d y=%d z =%d\",x,y,z)\n",
    "        case 5:\n",
    "        y=z-x\n",
    "        fmt.Printf(\"x= %d y=%d z =%d\",x,y,z)\n",
    "        fallthrough\n",
    "        case 2:\n",
    "        y=y+1\n",
    "        fmt.Printf(\"x= %d y=%d z =%d\",x,y,z)\n",
    "    }\n",
    "}\n",
    "func main(){\n",
    "    fmt.Println(funcion(5), funcion(10))\n",
    "}"
   ]
  },
  {
   "cell_type": "markdown",
   "metadata": {},
   "source": [
    "GO ofrece la opción de realizar un switch sin condición, sirve para hacer un if-else anidado de una forma más limpia."
   ]
  },
  {
   "cell_type": "code",
   "execution_count": null,
   "metadata": {
    "collapsed": true
   },
   "outputs": [],
   "source": [
    "func main(){\n",
    "    t:= time.Now()\n",
    "    switch {\n",
    "    case t.Hour()<12:\n",
    "        fmt.Println(\"Buenos dias!\")\n",
    "    ase t.Hour()<17:\n",
    "        fmt.Println(\"Buenas tardes!\")\n",
    "    default:\n",
    "        fmt.Println(\"Buenas noches!\")\n",
    "    }\n",
    "    fmt.Println(\"la hora es:\",t.Hour())\n",
    "}"
   ]
  },
  {
   "cell_type": "markdown",
   "metadata": {},
   "source": [
    "## DEFER\n",
    "Detiene la ejecución de sus argumentos hasta que la función a la que pertenece retorna."
   ]
  },
  {
   "cell_type": "code",
   "execution_count": null,
   "metadata": {
    "collapsed": true
   },
   "outputs": [],
   "source": [
    "func imprimirhola() {\n",
    "   fmt.Println(\"hola mundo\")\n",
    "}\n",
    "\n",
    "func main() {\n",
    "   fmt.Println(\"contando\")\n",
    "   defer imprimirhola()\n",
    "\n",
    "   for i := 0; i < 10; i++ {\n",
    "        defer fmt.Println(i)\n",
    "    }\n",
    "\n",
    "    fmt.Println(\"terminado\")\n",
    "    defer fmt.Println(\"un ultimo defer\")\n",
    "\n",
    "}"
   ]
  },
  {
   "cell_type": "markdown",
   "metadata": {},
   "source": [
    "# MÁS SOBRE GO\n",
    "## POINTERS\n",
    "Contienen la dirección de memoria de una variable. “*T” es un puntero a un valor T y su valor inicial es “nil”.\n",
    "El operador “&” genera un puntero al valor que se está operando.\n",
    "El operador “*” denota el valor relacionado al puntero."
   ]
  },
  {
   "cell_type": "code",
   "execution_count": null,
   "metadata": {
    "collapsed": true
   },
   "outputs": [],
   "source": [
    "func main() {\n",
    "    i, j := 42, 100\n",
    "\n",
    "    p := &i\n",
    "    fmt.Println(*p)\n",
    "    *p = 21\n",
    "    fmt.Println(i)\n",
    "\n",
    "    p = &j\n",
    "    *p = *p / 10\n",
    "    fmt.Println(j)\n",
    "}"
   ]
  },
  {
   "cell_type": "markdown",
   "metadata": {},
   "source": [
    "## STRUCT"
   ]
  },
  {
   "cell_type": "code",
   "execution_count": null,
   "metadata": {
    "collapsed": true
   },
   "outputs": [],
   "source": [
    "type Vertex struct {\n",
    "    X int\n",
    "    Y int\n",
    "}\n",
    "\n",
    "func main() {\n",
    "    v := Vertex{1, 2}\n",
    "    v.X = 4\n",
    "    fmt.Println(v.X)\n",
    "}"
   ]
  },
  {
   "cell_type": "markdown",
   "metadata": {},
   "source": [
    "## POINTER Y LITERALES"
   ]
  },
  {
   "cell_type": "code",
   "execution_count": null,
   "metadata": {
    "collapsed": true
   },
   "outputs": [],
   "source": [
    "func main() {\n",
    "    v := Vertex{1, 2}\n",
    "    v2 := Vertex{X: 1}\n",
    "    p := &v\n",
    "    p.X = 1e9\n",
    "    fmt.Println(v)\n",
    "    fmt.Println(v2)\n",
    "}"
   ]
  },
  {
   "cell_type": "markdown",
   "metadata": {},
   "source": [
    "## ARREGLOS\n",
    "“[n] T” es una matriz de n valores de tipo T. El tamaño de los arreglos no puede ser cambiado."
   ]
  },
  {
   "cell_type": "code",
   "execution_count": null,
   "metadata": {
    "collapsed": true
   },
   "outputs": [],
   "source": [
    "func main() {\n",
    "    var a [2]string\n",
    "    a[0] = \"Hello\"\n",
    "    a[1] = \"World\"\n",
    "    fmt.Println(a[0], a[1])\n",
    "    fmt.Println(a)\n",
    "    \n",
    "    primes := [6]int{2, 3, 5, 7, 11, 13}\n",
    "    fmt.Println(primes)\n",
    "}"
   ]
  },
  {
   "cell_type": "markdown",
   "metadata": {},
   "source": [
    "## SLICES\n",
    "Un arreglo tiene un tamaño fijo, mientras que una slice (rebanada) es una vista de tamaño dinámica y flexible de los elementos de una matriz. “[] T” es una slice con elementos de tipo T. <li>\n",
    "Expresiones equivalentes:\n",
    "<ul>\n",
    "<li>a[0:10] </li>\n",
    "<li>a[:10] </li>\n",
    "<li>a[0:]</li>\n",
    "<li>a[:]</li>\n",
    "</ul>"
   ]
  },
  {
   "cell_type": "code",
   "execution_count": null,
   "metadata": {
    "collapsed": true
   },
   "outputs": [],
   "source": [
    "func main() {\n",
    "    primes := [6]int{2, 3, 5, 7, 11, 13}\n",
    "\n",
    "    var s []int = primes[:4]\n",
    "    fmt.Println(s)\n",
    "    s = primes[0:4]\n",
    "    fmt.Println(s)\n",
    "}"
   ]
  },
  {
   "cell_type": "markdown",
   "metadata": {},
   "source": [
    "## RANGE\n",
    "Range junto con el ciclo for sirve para iterar sobre una slice o un mapa. Cuando se itera sobre una slice devuelve dos valores, el índice y una copia del valor de dicho índice, sin embargo también se puede obtener sólo uno de ellos, así:\n",
    "<ul>\n",
    "<li>for index, value := range pow{} </li>\n",
    "<li>for index := range pow{} </li>\n",
    "<li>for _, value := range pow{}</li>\n",
    "</ul>"
   ]
  },
  {
   "cell_type": "code",
   "execution_count": null,
   "metadata": {
    "collapsed": true
   },
   "outputs": [],
   "source": [
    "var pow = []int{1, 2, 4, 8, 16, 32, 64, 128}\n",
    "\n",
    "func main() {\n",
    "    for i, v := range pow {\n",
    "        fmt.Printf(\"2**%d = %d\\n\", i, v)\n",
    "    }\n",
    "    for i := range pow {\n",
    "        pow[i] = 1 << uint(i) // == 2**i\n",
    "    }\n",
    "    for _, value := range pow {\n",
    "        fmt.Printf(\"%d\\n\", value)\n",
    "    }\n",
    "}"
   ]
  },
  {
   "cell_type": "markdown",
   "metadata": {},
   "source": [
    "## MAPAS\n",
    "Crea un mapa de llaves y sus respectivos valores. Su valor inicial es “nil”. \n",
    "La función make devuelve un mapa de un tipo determinado, inicializado y listo para usar."
   ]
  },
  {
   "cell_type": "code",
   "execution_count": null,
   "metadata": {
    "collapsed": true
   },
   "outputs": [],
   "source": [
    "type Vertex struct {\n",
    "    Lat, Long float64\n",
    "}\n",
    "\n",
    "var m map[string]Vertex\n",
    "\n",
    "func main() {\n",
    "    m = make(map[string]Vertex)\n",
    "    m[\"Bell Labs\"] = Vertex{\n",
    "        40.68433, -74.39967,\n",
    "    }\n",
    "    fmt.Println(m[\"Bell Labs\"])\n",
    "}"
   ]
  },
  {
   "cell_type": "markdown",
   "metadata": {},
   "source": [
    "## MUTANDO MAPAS\n",
    "<ul>\n",
    "<li>Insertar o cambiar un elemento: “m[key]=elem”.</li>\n",
    "<li>Devolver un elemento: “elem=m[key]”. </li>\n",
    "<li>Borrar un elemento: “delete(m,key)”.</li>\n",
    "<li>Para saber si la llave existe se usa: “elem, ok = m[key]”. Si la llave está en el mapa “ok” es “true”, sino “false”. Si la llave no está “elem” será el valor inicial del tipo de elementos en el mapa.</li>\n",
    "</ul>"
   ]
  },
  {
   "cell_type": "code",
   "execution_count": null,
   "metadata": {
    "collapsed": true
   },
   "outputs": [],
   "source": [
    "func main() {\n",
    "    m := make(map[string]int)\n",
    "\n",
    "    m[\"Answer\"] = 42\n",
    "    fmt.Println(\"The value:\", m[\"Answer\"])\n",
    "\n",
    "    m[\"Answer\"] = 48\n",
    "    fmt.Println(\"The value:\", m[\"Answer\"])\n",
    "\n",
    "    delete(m, \"Answer\")\n",
    "    fmt.Println(\"The value:\", m[\"Answer\"])\n",
    "\n",
    "    v, ok := m[\"Answer\"]\n",
    "    fmt.Println(\"The value:\", v, \"Present?\", ok)\n",
    "}"
   ]
  },
  {
   "cell_type": "markdown",
   "metadata": {},
   "source": [
    "# MÉTODOS E INTERFACES\n",
    "## FUNCTION VALUES\n",
    "Las funciones son valores también. Pueden ser “pasados” al igual que otros valores, también pueden ser usados como argumentos de otra función y valores de retorno."
   ]
  },
  {
   "cell_type": "code",
   "execution_count": null,
   "metadata": {
    "collapsed": true
   },
   "outputs": [],
   "source": [
    "func compute(fn func(float64, float64) float64) float64 {\n",
    "    return fn(3, 4)\n",
    "}\n",
    "\n",
    "func main() {\n",
    "    hypot := func(x, y float64) float64 {\n",
    "        return math.Sqrt(x*x + y*y)\n",
    "    }\n",
    "    fmt.Println(hypot(5, 12))\n",
    "\n",
    "    fmt.Println(compute(hypot))\n",
    "    fmt.Println(compute(math.Pow))\n",
    "}"
   ]
  },
  {
   "cell_type": "markdown",
   "metadata": {},
   "source": [
    "## MÉTODOS\n",
    "Go no posee clases, sin embargo es posible definir métodos sobre un tipo. Un método es una función con un argumento “receptor”, este aparece en la lista de argumentos entre la palabra “func” y el nombre del método. "
   ]
  },
  {
   "cell_type": "code",
   "execution_count": null,
   "metadata": {
    "collapsed": true
   },
   "outputs": [],
   "source": [
    "type Vertex struct {\n",
    "    X, Y float64\n",
    "}\n",
    "\n",
    "func (v Vertex) Abs() float64 {\n",
    "    return math.Sqrt(v.X*v.X + v.Y*v.Y)\n",
    "}\n",
    "\n",
    "func main() {\n",
    "    v := Vertex{3, 4}\n",
    "    fmt.Println(v.Abs())\n",
    "}"
   ]
  },
  {
   "cell_type": "markdown",
   "metadata": {},
   "source": [
    "## EJEMPLO FUNCIONES Y PUNTEROS "
   ]
  },
  {
   "cell_type": "code",
   "execution_count": null,
   "metadata": {
    "collapsed": true
   },
   "outputs": [],
   "source": [
    "func Abs(v Vertex) float64 {\n",
    "    return math.Sqrt(v.X*v.X + v.Y*v.Y)\n",
    "}\n",
    "func Scale(v *Vertex, f float64) {\n",
    "    v.X = v.X * f\n",
    "    v.Y = v.Y * f\n",
    "}\n",
    "func main() {\n",
    "    v := Vertex{3, 4}\n",
    "    Scale(&v, 10)\n",
    "    fmt.Println(Abs(v))\n",
    "}"
   ]
  },
  {
   "cell_type": "markdown",
   "metadata": {},
   "source": [
    "## INTERFACES\n",
    "Un interfaz es un tipo en GO, que está formado por firmas de métodos. El valor de una interfaz contiene todos los valores de los métodos que implementa.\n",
    "Existen interfaces vacías que pueden contener valores de cualquier tipo, son usadas para usar valores de tipo desconocido."
   ]
  },
  {
   "cell_type": "code",
   "execution_count": null,
   "metadata": {
    "collapsed": true
   },
   "outputs": [],
   "source": [
    "type Abser interface {\n",
    "    Abs() float64\n",
    "}\n",
    "func main() {\n",
    "    var a Abser\n",
    "    f := MyFloat(-math.Sqrt2)\n",
    "    v := Vertex{3, 4}\n",
    "    a = f\n",
    "    fmt.Println(a.Abs())\n",
    "    a = &v\n",
    "    //a = v\n",
    "    fmt.Println(a.Abs())\n",
    "}\n",
    "type MyFloat float64\n",
    "func (f MyFloat) Abs() float64 {\n",
    "    if f < 0 {\n",
    "        return float64(-f)\n",
    "    }\n",
    "    return float64(f)\n",
    "}\n",
    "type Vertex struct {\n",
    "    X, Y float64\n",
    "}\n",
    "func (v *Vertex) Abs() float64 {\n",
    "    return math.Sqrt(v.X*v.X + v.Y*v.Y)\n",
    "}"
   ]
  },
  {
   "cell_type": "markdown",
   "metadata": {},
   "source": [
    "## INTERFACES VACÍAS "
   ]
  },
  {
   "cell_type": "code",
   "execution_count": null,
   "metadata": {
    "collapsed": true
   },
   "outputs": [],
   "source": [
    "func main() {\n",
    "    var i interface{}\n",
    "    describe(i)\n",
    "\n",
    "    i = 42\n",
    "    describe(i)\n",
    "\n",
    "    i = \"hello\"\n",
    "    describe(i)\n",
    "}\n",
    "\n",
    "func describe(i interface{}) {\n",
    "    fmt.Printf(\"(%v, %T)\\n\", i, i)\n",
    "}"
   ]
  },
  {
   "cell_type": "markdown",
   "metadata": {},
   "source": [
    "# CONCURRENCIA\n",
    "## GOROUTINES\n",
    "Una goroutine es un hilo “ligero” gestionado por tiempo de ejecución de GO. Estas rutinas se corren en el mismo espacio de direcciones lo que implica que el acceso a la memoria deba ser sincronizado."
   ]
  },
  {
   "cell_type": "code",
   "execution_count": null,
   "metadata": {
    "collapsed": true
   },
   "outputs": [],
   "source": [
    "import \"time\"\n",
    "\n",
    "func say(s string) {\n",
    "    for i := 0; i < 5; i++ {\n",
    "        time.Sleep(100 * time.Millisecond)\n",
    "        fmt.Println(s)\n",
    "    }\n",
    "}\n",
    "\n",
    "func main() {\n",
    "    go say(\"world\")\n",
    "    say(\"hello\")\n",
    "}"
   ]
  },
  {
   "cell_type": "markdown",
   "metadata": {},
   "source": [
    "## CHANNELS\n",
    "Son un conducto a través del cual se pueden enviar y recibir valores por medio del operador “<-”, los datos fluyen en la dirección de los datos. Los canales deben ser creados antes de usarlos. <li>\n",
    "Por defecto, se envía y recibe el bloque hasta que el otro lado esté listo; esto le permite a las goroutines una sincronización sin bloqueos explícitos o condicionales."
   ]
  },
  {
   "cell_type": "code",
   "execution_count": null,
   "metadata": {
    "collapsed": true
   },
   "outputs": [],
   "source": [
    "func sum(s []int, c chan int) {\n",
    "    sum := 0\n",
    "    for _, v := range s {\n",
    "        sum += v\n",
    "    }\n",
    "    c <- sum // send sum to c\n",
    "}\n",
    "func main() {\n",
    "    s := []int{7, 2, 8, -9, 4, 0}\n",
    "\n",
    "    c := make(chan int)\n",
    "    go sum(s[:len(s)/2], c)\n",
    "    go sum(s[len(s)/2:], c)\n",
    "    x, y := <-c, <-c // receive from c\n",
    "\n",
    "    fmt.Println(x, y, x+y)\n",
    "}"
   ]
  },
  {
   "cell_type": "markdown",
   "metadata": {},
   "source": [
    "## BUFFERED CHANNELS\n",
    "Esto sucede cuando se ingresa un segundo argumento al momento de inicializar el canal que corresponde al tamaño del canal."
   ]
  },
  {
   "cell_type": "code",
   "execution_count": null,
   "metadata": {
    "collapsed": true
   },
   "outputs": [],
   "source": [
    "func main() {\n",
    "    ch := make(chan int, 2)\n",
    "    ch <- 1\n",
    "    ch <- 2\n",
    "    fmt.Println(<-ch)\n",
    "    fmt.Println(<-ch)\n",
    "}"
   ]
  },
  {
   "cell_type": "markdown",
   "metadata": {},
   "source": [
    "## SELECT\n",
    "Permite a una gouroutine esperar en múltiples operaciones de comunicación. Select escoge uno de los bloques que sea posible correr y lo ejecuta, sin embargo, si hay varios disponibles ejecuta uno al azar."
   ]
  },
  {
   "cell_type": "code",
   "execution_count": null,
   "metadata": {
    "collapsed": true
   },
   "outputs": [],
   "source": [
    "func fibonacci(c, quit chan int) {\n",
    "    x, y := 0, 1\n",
    "    for {\n",
    "        select {\n",
    "        case c <- x:\n",
    "            x, y = y, x+y\n",
    "        case <-quit:\n",
    "            fmt.Println(\"quit\")\n",
    "            return\n",
    "        }\n",
    "    }\n",
    "}\n",
    "\n",
    "func main() {\n",
    "    c := make(chan int)\n",
    "    quit := make(chan int)\n",
    "    go func() {\n",
    "        for i := 0; i < 10; i++ {\n",
    "            fmt.Println(<-c)\n",
    "        }\n",
    "        quit <- 0\n",
    "    }()\n",
    "    fibonacci(c, quit)\n",
    "}\n"
   ]
  },
  {
   "cell_type": "markdown",
   "metadata": {},
   "source": [
    "## DEFAULT SELECT\n",
    "El caso default se corre cuando ningún otro caso esta listo dentro de los bloques del select."
   ]
  },
  {
   "cell_type": "code",
   "execution_count": null,
   "metadata": {
    "collapsed": true
   },
   "outputs": [],
   "source": [
    "import \"time\"\n",
    "\n",
    "func main() {\n",
    "    tick := time.Tick(100 * time.Millisecond)\n",
    "    boom := time.After(500 * time.Millisecond)\n",
    "    for {\n",
    "        select {\n",
    "        case <-tick:\n",
    "            fmt.Println(\"tick.\")\n",
    "        case <-boom:\n",
    "            fmt.Println(\"BOOM!\")\n",
    "            return\n",
    "        default:\n",
    "            fmt.Println(\"    .\")\n",
    "            time.Sleep(50 * time.Millisecond)\n",
    "        }\n",
    "    }"
   ]
  },
  {
   "cell_type": "markdown",
   "metadata": {},
   "source": [
    "## SYNC .MUTEX\n",
    "Si es necesario asegurar que sólo una gouroutine pueda acceder a una variable a la vez se debe usar la exclusión mutua, la cual se conoce como mutex.\n",
    "La biblioteca que usa GO es sync.Mutex y sus métodos: Lock y Unlock.\n"
   ]
  },
  {
   "cell_type": "code",
   "execution_count": null,
   "metadata": {
    "collapsed": true
   },
   "outputs": [],
   "source": [
    "import sync\"\n",
    "\n",
    "type SafeCounter struct {\n",
    "    v   map[string]int\n",
    "    mux sync.Mutex\n",
    "}\n",
    "func (c *SafeCounter) Inc(key string) {\n",
    "    c.mux.Lock()\n",
    "    c.v[key]++\n",
    "    c.mux.Unlock()\n",
    "}\n",
    "func (c *SafeCounter) Value(key string) int {\n",
    "    c.mux.Lock()\n",
    "    defer c.mux.Unlock()\n",
    "    return c.v[key]\n",
    "}\n",
    "func main() {\n",
    "    c := SafeCounter{v: make(map[string]int)}\n",
    "    for i := 0; i < 1000; i++ {\n",
    "        go c.Inc(\"somekey\")\n",
    "    }\n",
    "    time.Sleep(time.Second)\n",
    "    fmt.Println(c.Value(\"somekey\"))\n",
    "}"
   ]
  },
  {
   "cell_type": "markdown",
   "metadata": {},
   "source": [
    "## EJEMPLO CONCURRENCIA: PRIME SIEVE \n",
    "El siguiente ejemplo permite hallar los primeros 10 números primos basados en la Criba de Eratóstenes (Sieve of Eratosthenes)."
   ]
  },
  {
   "cell_type": "code",
   "execution_count": 1,
   "metadata": {
    "collapsed": false
   },
   "outputs": [
    {
     "ename": "Error",
     "evalue": "<continue input>",
     "output_type": "error",
     "traceback": [
      ""
     ]
    }
   ],
   "source": [
    "func Generate(ch chan<- int) {\n",
    "    for i := 2; ; i++ {\n",
    "        ch <- i\n",
    "    }\n",
    "}\n",
    "func Filter(in <-chan int, out chan<- int, prime int) {\n",
    "    for {\n",
    "        i := <-in\n",
    "        if i%prime != 0 {\n",
    "            out <- i\n",
    "        }\n",
    "    }\n",
    "}\n",
    "func main() {\n",
    "    ch := make(chan int)\n",
    "    go Generate(ch)\n",
    "    for i := 0; i < 10 ; i++ {\n",
    "        prime := <-ch\n",
    "        fmt.Println(prime)\n",
    "        ch1 := make(chan int)\n",
    "        go Filter(ch, ch1, prime)\n",
    "        ch = ch1\n",
    "    }\n",
    "}"
   ]
  },
  {
   "cell_type": "markdown",
   "metadata": {},
   "source": [
    "## ENLACE PRESENTACIÓN\n",
    "https://drive.google.com/a/unal.edu.co/file/d/0Bx4MfUuTIdl_b083anhWdVFBU1U/view?usp=sharing\n",
    "## ENLACE TALLER\n",
    "https://drive.google.com/a/unal.edu.co/file/d/0Bx4MfUuTIdl_OGtsaGpmTm9TQlE/view?usp=sharing\n",
    "## REFERENCIAS\n",
    "<ul>\n",
    "<li>https://tour.golang.org.</li>\n",
    "<li>https://divan.github.io/posts/go_concurrency_visualize/. </li>\n",
    "<li>https://gopadawan.wordpress.com/. </li>\n",
    "</ul>\n",
    "\n"
   ]
  }
 ],
 "metadata": {
  "anaconda-cloud": {},
  "kernelspec": {
   "display_name": "Go (gopherlab)",
   "language": "go",
   "name": "gopherlab"
  },
  "language_info": {
   "file_extension": ".go",
   "mimetype": "application/x-golang",
   "name": "go",
   "version": "go1.6.2"
  },
  "nbpresent": {
   "slides": {
    "6f563235-c5ee-450f-a4b8-89808a8c59ca": {
     "id": "6f563235-c5ee-450f-a4b8-89808a8c59ca",
     "prev": "b5055525-e347-43ef-9517-8c0b4bffe5c8",
     "regions": {
      "9deadce5-e339-4423-9ed2-0a756ac15d35": {
       "attrs": {
        "height": 0.8,
        "width": 0.8,
        "x": 0.1,
        "y": 0.1
       },
       "content": {
        "cell": "4c615833-7d44-4317-baf8-dec3c2608e2c",
        "part": "whole"
       },
       "id": "9deadce5-e339-4423-9ed2-0a756ac15d35"
      }
     }
    },
    "b5055525-e347-43ef-9517-8c0b4bffe5c8": {
     "id": "b5055525-e347-43ef-9517-8c0b4bffe5c8",
     "prev": null,
     "regions": {
      "55e98303-f208-4379-9941-5e6866567d30": {
       "attrs": {
        "height": 0.8,
        "width": 0.8,
        "x": 0.1,
        "y": 0.1
       },
       "id": "55e98303-f208-4379-9941-5e6866567d30"
      }
     }
    },
    "d3b30d48-a2d4-4b4c-815f-f9469f302448": {
     "id": "d3b30d48-a2d4-4b4c-815f-f9469f302448",
     "prev": "6f563235-c5ee-450f-a4b8-89808a8c59ca",
     "regions": {
      "1439bf95-fa13-4f8d-89a0-72dd2757f4a4": {
       "attrs": {
        "height": 0.8,
        "width": 0.8,
        "x": 0.1,
        "y": 0.1
       },
       "content": {
        "cell": "6814e867-0509-46ae-a935-34e91c2e6d5c",
        "part": "whole"
       },
       "id": "1439bf95-fa13-4f8d-89a0-72dd2757f4a4"
      }
     }
    }
   },
   "themes": {}
  }
 },
 "nbformat": 4,
 "nbformat_minor": 1
}
